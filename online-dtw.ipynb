{
 "cells": [
  {
   "cell_type": "code",
   "execution_count": 3,
   "id": "55c97c7d-85d3-4779-b27f-6f33c64c6f71",
   "metadata": {},
   "outputs": [],
   "source": [
    "import numpy as np\n",
    "import matplotlib.pyplot as plt\n",
    "import librosa as lb\n",
    "import pandas as pd\n",
    "import os.path\n",
    "from pathlib import Path\n",
    "import pickle\n",
    "import multiprocessing\n",
    "import time\n",
    "import gc\n",
    "from numba import jit\n",
    "import IPython.display as ipd"
   ]
  },
  {
   "cell_type": "code",
   "execution_count": 4,
   "id": "47d89701-1857-46c4-83ab-8301a890751d",
   "metadata": {},
   "outputs": [],
   "source": [
    "%matplotlib inline\n",
    "%load_ext Cython"
   ]
  },
  {
   "cell_type": "markdown",
   "id": "2e1fcd6d-19be-427d-84e6-820ece8a1449",
   "metadata": {},
   "source": [
    "# FlexDTW Implementation\n",
    "\n",
    "From https://github.com/HMC-MIR/FlexDTW"
   ]
  },
  {
   "cell_type": "code",
   "execution_count": 5,
   "id": "c9a6a70b-61e4-4599-b5e7-9b1d240c763c",
   "metadata": {},
   "outputs": [],
   "source": [
    "@jit(nopython=True)\n",
    "def flexdtw_alt(C, steps, weights, buffer=1):\n",
    "    '''\n",
    "    Implementation of DTW Star version 0.2a.  \n",
    "    \n",
    "    Inputs\n",
    "    C: pairwise cost matrix\n",
    "    steps: a numpy matrix specifying the allowable transitions.  It should be of\n",
    "        dimension (L, 2), where each row specifies (row step, col step)\n",
    "    weights: a array that specifies the multiplicative weights for each transition\n",
    "        type.  The length of this array must match the number of possible transitions.\n",
    "    buffer: specifies \n",
    "    \n",
    "    Outputs\n",
    "    best_cost: the best average cost per manhattan block\n",
    "    path: the estimated warping path, specified as a 2xN array\n",
    "    debug: Debugging information for examining the average cost per manhattan block for each \n",
    "        of the candidate ending positions.\n",
    "    '''\n",
    "    \n",
    "    # initialize\n",
    "    D = np.zeros(C.shape)\n",
    "    B = np.zeros(C.shape, dtype=np.int8)\n",
    "    P = np.zeros(C.shape, dtype=np.int32)\n",
    "    D[0,:] = C[0,:]\n",
    "    D[:,0] = C[:,0]\n",
    "    \n",
    "    # DP\n",
    "    for row in range(1,C.shape[0]):\n",
    "        for col in range(1, C.shape[1]):\n",
    "            \n",
    "            mincost = np.inf\n",
    "            minidx = -1\n",
    "            bestrprev = -1\n",
    "            bestcprev = -1\n",
    "            \n",
    "            # find best transition\n",
    "            for stepidx, step in enumerate(steps):\n",
    "                \n",
    "                (rstep, cstep) = step\n",
    "                prevrow = row - rstep\n",
    "                prevcol = col - cstep\n",
    "                \n",
    "                if prevrow >= 0 and prevcol >= 0:\n",
    "                    \n",
    "                    pathcost = D[prevrow, prevcol] + C[row, col] * weights[stepidx]\n",
    "                    \n",
    "                    if pathcost < mincost:\n",
    "                        \n",
    "                        mincost = pathcost\n",
    "                        minidx = stepidx\n",
    "                        bestrprev = prevrow\n",
    "                        bestcprev = prevcol\n",
    "            \n",
    "            # update D, B, P\n",
    "            D[row, col] = mincost\n",
    "            B[row, col] = minidx\n",
    "            if bestrprev == 0:\n",
    "                P[row, col] = bestcprev\n",
    "            elif bestcprev == 0:\n",
    "                P[row, col] = -1*bestrprev\n",
    "            else:\n",
    "                P[row, col] = P[bestrprev, bestcprev]\n",
    "            \n",
    "    #  backtrack\n",
    "    best_cost, best_r, best_c, debug = find_best_endpoint(D, P, buffer)\n",
    "    path = backtrace_flexdtw(D, B, steps, best_r, best_c)\n",
    "    path.reverse()\n",
    "    path = np.array(path).T \n",
    "    \n",
    "    return best_cost, path, debug, D, B, P"
   ]
  },
  {
   "cell_type": "code",
   "execution_count": 6,
   "id": "268c64ba-6bb3-4593-a868-f035cab6899e",
   "metadata": {},
   "outputs": [],
   "source": [
    "@jit(nopython=True)\n",
    "def find_best_endpoint(D, P, buffer):\n",
    "    '''\n",
    "    Determines the best location to begin backtracking from by comparing the average path cost\n",
    "    per manhattan block.\n",
    "    \n",
    "    Inputs\n",
    "    D: the cumulative cost matrix\n",
    "    P: the matrix specifying the starting location of the alignment path\n",
    "    buffer: specifies the length of a buffer region (in frames) to avoid short degenerate alignment paths\n",
    "        near the corners of the pairwise cost matrix.  This can be thought of as the minimum length that\n",
    "        needs to match in order to be considered a valid alignment path.\n",
    "    \n",
    "    Outputs\n",
    "    best_cost: the best average path cost per manhattan block\n",
    "    best_r: the row index of the best endpoint\n",
    "    best_c: the column index of the best endpoint\n",
    "    debug: debugging information for examining the average cost per manhattan block for each \n",
    "        of the candidate ending positions\n",
    "    '''\n",
    "    \n",
    "    # consider last row and column as candidates\n",
    "    candidates = [(D.shape[0]-1,i) for i in range(buffer, D.shape[1])] + [(i, D.shape[1]-1) for i in range(buffer, D.shape[0]-1)][::-1]\n",
    "    \n",
    "    best_cost = np.inf\n",
    "    best_r, best_c = -1, -1\n",
    "    debug = []\n",
    "    \n",
    "    for i, (r,c) in enumerate(candidates):\n",
    "                \n",
    "        # get alignment start location\n",
    "        if P[r,c] >= 0:\n",
    "            rstart, cstart = 0, P[r,c]\n",
    "        else:\n",
    "            rstart, cstart = -P[r,c], 0\n",
    "            \n",
    "        # calculate average cost per manhattan block\n",
    "        mdist = (r - rstart) + (c - cstart) # manhattan distance\n",
    "        avg_cost_per_mb = D[r,c] / mdist\n",
    "        \n",
    "        # keep best\n",
    "        if avg_cost_per_mb < best_cost:\n",
    "            best_cost = avg_cost_per_mb\n",
    "            best_r, best_c = r, c\n",
    "            \n",
    "        # debugging info\n",
    "        if r == D.shape[0]-1:\n",
    "            debug.append((c-D.shape[1]+1, avg_cost_per_mb, r, c))\n",
    "        else:\n",
    "            debug.append((D.shape[0]-1-r, avg_cost_per_mb, r, c))\n",
    "    \n",
    "    return best_cost, best_r, best_c, debug"
   ]
  },
  {
   "cell_type": "code",
   "execution_count": 7,
   "id": "2c513d91-fc18-44f0-93c0-342444b89469",
   "metadata": {},
   "outputs": [],
   "source": [
    "@jit(nopython=True)\n",
    "def backtrace_flexdtw(D, B, steps, rstart, cstart):\n",
    "    '''\n",
    "    Backtraces through the cumulative cost matrix D starting from a specified location.\n",
    "    \n",
    "    Arguments:\n",
    "    D: cumulative cost matrix\n",
    "    B: backtrace matrix\n",
    "    steps: a numpy matrix specifying the allowable transitions.  It should be of\n",
    "            dimension (L, 2), where each row specifies (row step, col step)\n",
    "    rstart: the row index to start backtracking from\n",
    "    cstart: the column index to start backtracking from\n",
    "    \n",
    "    Outputs\n",
    "    path: a python list of (row, col) coordinates for the optimal path.\n",
    "    '''\n",
    "    pos = (rstart, cstart)\n",
    "    path = []\n",
    "    path.append(pos)\n",
    "    while(pos[0] != 0 and pos[1] != 0):\n",
    "        (row, col) = pos\n",
    "        stepidx = B[row, col]\n",
    "        (rstep, cstep) = steps[stepidx]\n",
    "        pos = (row-rstep, col-cstep)\n",
    "        path.append(pos)\n",
    "    \n",
    "    return path"
   ]
  },
  {
   "cell_type": "code",
   "execution_count": 44,
   "id": "f6b3e3f5-e1f1-4260-826f-8542ead3d73f",
   "metadata": {},
   "outputs": [],
   "source": [
    "def online_flex_dtw(C, steps, weights, buffer=1, L=100):\n",
    "    \"\"\"\n",
    "    Computes the optimal path through a cost matrix using an online method, taking windows of length L \n",
    "    and applying FlexDTW to each one.\n",
    "\n",
    "    Inputs\n",
    "    C: pairwise cost matrix\n",
    "    steps: a numpy matrix specifying the allowable transitions.  It should be of\n",
    "        dimension (L, 2), where each row specifies (row step, col step)\n",
    "    weights: a array that specifies the multiplicative weights for each transition\n",
    "        type.  The length of this array must match the number of possible transitions.\n",
    "    buffer: specifies the length of a buffer region (in frames) to avoid short degenerate alignment paths\n",
    "        near the corners of the pairwise cost matrix.  This can be thought of as the minimum length that\n",
    "        needs to match in order to be considered a valid alignment path.\n",
    "    L: square window size to find path through\n",
    "\n",
    "    \n",
    "    Outputs\n",
    "    best_cost: the best average cost per manhattan block\n",
    "    full_path: the estimated warping path, specified as a 2xN array\n",
    "    \"\"\"\n",
    "\n",
    "    # start at bottom left of \n",
    "    row = 0\n",
    "    col = 0\n",
    "\n",
    "    num_rows, num_cols = C.shape\n",
    "\n",
    "    full_path = []\n",
    "\n",
    "    # iterate until we reach boundaries\n",
    "    i = 0\n",
    "    # while(row < num_rows and col < num_cols): # needs fixing\n",
    "    while(i < 3):\n",
    "        print(f\"start row: {row}, start col: {col}\")\n",
    "        C_window = C[row:row+L, col:col+L]\n",
    "        best_cost, path, _, _, _, _ = flexdtw_alt(C_window, steps, weights, buffer=1)\n",
    "\n",
    "        end_row, end_col = path[:, -1]\n",
    "        \n",
    "        print(f\"end row: {end_row}, end col: {end_col}\")\n",
    "\n",
    "        row = row + end_row\n",
    "        col = col + end_col\n",
    "\n",
    "        # make path into global indexing instead of relative\n",
    "        # global_offset = np.zeros(path.shape, dtype=np.int64)\n",
    "        # global_offset[0, :] = row\n",
    "        # global_offset[1, :] = col\n",
    "        # path += global_offset\n",
    "\n",
    "        print(f\"global row: {row}, global col: {col}\")\n",
    "        print(f\"Path is:\")\n",
    "        print(path[:, 0:10])\n",
    "        print(path.shape)\n",
    "        \n",
    "        full_path.append(path)\n",
    "        print()\n",
    "        i += 1\n",
    "\n",
    "    # concatenate arrays along coordinate axis\n",
    "    full_path_np = np.concatenate(full_path, axis=1)\n",
    "\n",
    "    return full_path_np\n"
   ]
  },
  {
   "cell_type": "code",
   "execution_count": 25,
   "id": "fcfba73d",
   "metadata": {},
   "outputs": [
    {
     "name": "stdout",
     "output_type": "stream",
     "text": [
      "[[200. 200. 200.]\n",
      " [400. 400. 400.]]\n"
     ]
    },
    {
     "data": {
      "text/plain": [
       "array([[201., 202., 203.],\n",
       "       [401., 402., 403.]])"
      ]
     },
     "execution_count": 25,
     "metadata": {},
     "output_type": "execute_result"
    }
   ],
   "source": [
    "arr = np.array([[1,2,3], [1,2,3]])\n",
    "row = 200\n",
    "col = 400\n",
    "arr\n",
    "global_offset = np.ones(arr.shape)\n",
    "global_offset[0, :] = row\n",
    "global_offset[1, :] = col\n",
    "print(global_offset)\n",
    "arr + global_offset"
   ]
  },
  {
   "cell_type": "code",
   "execution_count": 26,
   "id": "eecb1aca",
   "metadata": {},
   "outputs": [],
   "source": [
    "def mapFrame(r, c, Dshape, frames=False):\n",
    "    if frames: #  frames, use exact\n",
    "        if r == Dshape[0]-1:\n",
    "            val = c-D.shape[1]+1\n",
    "        else:\n",
    "            val = D.shape[0]-1-r\n",
    "    else: # seconds, use approximate\n",
    "        distr = np.abs(r-Dshape[0])\n",
    "        distc = np.abs(c-Dshape[1])\n",
    "        if distr < distc:\n",
    "            val = c-Dshape[1]\n",
    "        else:\n",
    "            val = Dshape[0]-r\n",
    "    return val"
   ]
  },
  {
   "cell_type": "code",
   "execution_count": 27,
   "id": "61da859f",
   "metadata": {},
   "outputs": [],
   "source": [
    "def L2norm(F):\n",
    "    L2norm = np.sqrt(np.sum(F*F, axis = 0)) + 1e-9\n",
    "    Fnorm = F / L2norm.reshape((1,-1))\n",
    "    return Fnorm"
   ]
  },
  {
   "cell_type": "code",
   "execution_count": 28,
   "id": "e41c3ad3",
   "metadata": {},
   "outputs": [],
   "source": [
    "def compute_cosdist_cost(F_query, F_ref):\n",
    "    \"\"\"\n",
    "    Computes the cosine distance cost matrix for a reference feature matrix and a query feature matrix.\n",
    "    \"\"\"\n",
    "\n",
    "    return 1 - L2norm(F_query).T @ L2norm(F_ref)"
   ]
  },
  {
   "cell_type": "code",
   "execution_count": 29,
   "id": "a9c1b616",
   "metadata": {},
   "outputs": [],
   "source": [
    "def getTimestamps(annotfile1, annotfile2):\n",
    "    df1 = pd.read_csv(annotfile1, header=None, sep='\\s+', skiprows=3) \n",
    "    df2 = pd.read_csv(annotfile2, header=None, sep='\\s+', skiprows=3)\n",
    "    \n",
    "    # df_merged = df1.merge(df2, on=[2], how='left')\n",
    "    # df_merged.to_csv(\"merged_test.csv\")\n",
    "\n",
    "    return np.array(df1[0]), np.array(df2[0])"
   ]
  },
  {
   "cell_type": "code",
   "execution_count": 30,
   "metadata": {},
   "outputs": [],
   "source": [
    "ashkenazy_audio, sr_a = lb.load(\"/home/dherrera/ttmp/alignment_data/Chopin_Op017No4_Ashkenazy-1981_pid9058-13.wav\")\n",
    "block_audio, sr_b = lb.load(\"/home/dherrera/ttmp/alignment_data/Chopin_Op017No4_Block-1995_pid9064-04.wav\")"
   ]
  },
  {
   "cell_type": "code",
   "execution_count": 31,
   "id": "abf043bf",
   "metadata": {},
   "outputs": [],
   "source": [
    "# Compute chroma features\n",
    "F_a = lb.feature.chroma_stft(y=ashkenazy_audio, sr=sr_a)\n",
    "F_b = lb.feature.chroma_stft(y=block_audio, sr=sr_b)\n"
   ]
  },
  {
   "cell_type": "code",
   "execution_count": 32,
   "id": "62c2cf5b",
   "metadata": {},
   "outputs": [
    {
     "name": "stdout",
     "output_type": "stream",
     "text": [
      "(11024, 13908)\n"
     ]
    }
   ],
   "source": [
    "# Compute pairwise cost comparison matrix\n",
    "C = compute_cosdist_cost(F_a, F_b)\n",
    "print(C.shape)"
   ]
  },
  {
   "cell_type": "code",
   "execution_count": 46,
   "id": "d2218273",
   "metadata": {},
   "outputs": [],
   "source": [
    "steps = np.array([1, 1, 1, 2, 2, 1]).reshape((-1,2))\n",
    "weights = np.array([2,3,3])\n",
    "hop_sec = 512/22050\n",
    "buffer = 30 # in sec"
   ]
  },
  {
   "cell_type": "code",
   "execution_count": 47,
   "id": "f7c928f5",
   "metadata": {},
   "outputs": [],
   "source": [
    "annotfile_a = \"/home/dherrera/ttmp/alignment_data/Chopin_Op017No4_Ashkenazy-1981_pid9058-13.beat\"\n",
    "annotfile_b = \"/home/dherrera/ttmp/alignment_data/Chopin_Op017No4_Block-1995_pid9064-04.beat\"\n",
    "gt1, gt2 = getTimestamps(annotfile_a, annotfile_b)"
   ]
  },
  {
   "cell_type": "code",
   "execution_count": 48,
   "id": "366d243a",
   "metadata": {},
   "outputs": [
    {
     "name": "stdout",
     "output_type": "stream",
     "text": [
      "start row: 0, start col: 0\n",
      "end row: 60, end col: 99\n",
      "global row: 60, global col: 99\n",
      "Path is:\n",
      "[[ 0  1  3  5  7  8 10 12 14 16]\n",
      " [24 25 26 27 28 29 30 31 32 33]]\n",
      "(2, 49)\n",
      "\n",
      "start row: 60, start col: 99\n",
      "end row: 39, end col: 99\n",
      "global row: 99, global col: 198\n",
      "Path is:\n",
      "[[ 0  2  4  6  8 10 12 14 16 17]\n",
      " [62 63 64 65 66 67 68 69 70 71]]\n",
      "(2, 28)\n",
      "\n",
      "start row: 99, start col: 198\n",
      "end row: 99, end col: 21\n",
      "global row: 198, global col: 219\n",
      "Path is:\n",
      "[[75 76 77 78 79 80 82 83 84 85]\n",
      " [ 0  2  3  5  7  8  9 10 12 13]]\n",
      "(2, 18)\n",
      "\n",
      "<class 'numpy.ndarray'>\n"
     ]
    },
    {
     "data": {
      "text/plain": [
       "[<matplotlib.lines.Line2D at 0x7f7d18fcb110>]"
      ]
     },
     "execution_count": 48,
     "metadata": {},
     "output_type": "execute_result"
    },
    {
     "data": {
      "image/png": "[encoded data removed]",
      "text/plain": [
       "<Figure size 640x480 with 1 Axes>"
      ]
     },
     "metadata": {},
     "output_type": "display_data"
    }
   ],
   "source": [
    "wp_ol = online_flex_dtw(C, steps, weights, buffer/hop_sec)\n",
    "print(type(wp_ol))\n",
    "plt.plot(wp_ol[0,:], wp_ol[1,:], 'y.')\n"
   ]
  },
  {
   "cell_type": "code",
   "execution_count": 49,
   "id": "cafa3194",
   "metadata": {},
   "outputs": [
    {
     "name": "stdout",
     "output_type": "stream",
     "text": [
      "4.83305025100708 seconds\n"
     ]
    },
    {
     "data": {
      "text/plain": [
       "<matplotlib.lines.Line2D at 0x7f7d10e16f10>"
      ]
     },
     "execution_count": 49,
     "metadata": {},
     "output_type": "execute_result"
    },
    {
     "data": {
      "image/png": "[encoded data removed]",
      "text/plain": [
       "<Figure size 640x480 with 1 Axes>"
      ]
     },
     "metadata": {},
     "output_type": "display_data"
    }
   ],
   "source": [
    "start = time.time()\n",
    "best_cost, wp, debug, _, _, _ = flexdtw_alt(C, steps, weights, buffer/hop_sec)\n",
    "print(\"% s seconds\" % (time.time() - start))\n",
    "X = np.array(debug)\n",
    "times = X[:,0]*hop_sec\n",
    "scores = X[:,1]\n",
    "plt.plot(times, scores,'.')\n",
    "plt.axvline(times.min()+10, color='r')\n",
    "plt.axvline(times.max()-10, color='r')\n",
    "plt.axvline(mapFrame(gt1[-1], gt2[-1], (F_a.shape[1]*hop_sec, F_b.shape[1]*hop_sec)), color='g')"
   ]
  },
  {
   "cell_type": "code",
   "execution_count": 50,
   "id": "c93d5fcf",
   "metadata": {},
   "outputs": [
    {
     "data": {
      "text/plain": [
       "(0.0, 324.94312925170067)"
      ]
     },
     "execution_count": 50,
     "metadata": {},
     "output_type": "execute_result"
    },
    {
     "data": {
      "image/png": "[encoded data removed]",
      "text/plain": [
       "<Figure size 640x480 with 1 Axes>"
      ]
     },
     "metadata": {},
     "output_type": "display_data"
    }
   ],
   "source": [
    "plt.plot(wp[0,:]*hop_sec, wp[1,:]*hop_sec, 'y.')\n",
    "plt.plot(gt1, gt2, 'g')\n",
    "plt.legend(['pred', 'gt'])\n",
    "plt.xlim([0, F_a.shape[1]*hop_sec+2])\n",
    "plt.ylim([0, F_b.shape[1]*hop_sec+2])"
   ]
  },
  {
   "cell_type": "code",
   "execution_count": null,
   "id": "01198b01",
   "metadata": {},
   "outputs": [],
   "source": []
  },
  {
   "cell_type": "code",
   "execution_count": null,
   "id": "58267df6",
   "metadata": {},
   "outputs": [],
   "source": []
  },
  {
   "cell_type": "code",
   "execution_count": null,
   "id": "519e5322",
   "metadata": {},
   "outputs": [],
   "source": []
  }
 ],
 "metadata": {
  "kernelspec": {
   "display_name": "Python 3 (ipykernel)",
   "language": "python",
   "name": "python3"
  },
  "language_info": {
   "codemirror_mode": {
    "name": "ipython",
    "version": 3
   },
   "file_extension": ".py",
   "mimetype": "text/x-python",
   "name": "python",
   "nbconvert_exporter": "python",
   "pygments_lexer": "ipython3",
   "version": "3.7.12"
  }
 },
 "nbformat": 4,
 "nbformat_minor": 5
}
