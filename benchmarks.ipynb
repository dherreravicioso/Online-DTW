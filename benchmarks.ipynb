{
 "cells": [
  {
   "cell_type": "code",
   "execution_count": 1,
   "id": "9afb16ac",
   "metadata": {},
   "outputs": [],
   "source": [
    "%matplotlib inline"
   ]
  },
  {
   "cell_type": "code",
   "execution_count": 2,
   "id": "81e8c225",
   "metadata": {},
   "outputs": [],
   "source": [
    "import numpy as np\n",
    "import matplotlib.pyplot as plt\n",
    "import seaborn as sns\n",
    "from pathlib import Path\n",
    "import glob\n",
    "import os.path\n",
    "import pandas as pd\n",
    "import pickle\n",
    "import re\n",
    "import librosa as lb\n",
    "from plotnine import *\n",
    "from pandas.api.types import CategoricalDtype\n",
    "import nbimporter\n",
    "from fastdtw import fastdtw\n",
    "from scipy.spatial.distance import euclidean\n",
    "import sys\n",
    "import statistics\n",
    "from time import perf_counter\n",
    "from prettytable import PrettyTable"
   ]
  },
  {
   "cell_type": "code",
   "execution_count": 3,
   "id": "c79bc7ba",
   "metadata": {},
   "outputs": [],
   "source": [
    "# Importing necessary functions\n",
    "from online_dtw import flexdtw_alt, backtrace_flexdtw, find_best_endpoint, get_error, online_flex_dtw, L2norm, compute_cosdist_cost\n",
    "from DTW import dtw_backtrace, dtw_numba"
   ]
  },
  {
   "cell_type": "code",
   "execution_count": 4,
   "id": "67eabc0e",
   "metadata": {},
   "outputs": [],
   "source": [
    "np.set_printoptions(threshold=sys.maxsize)"
   ]
  },
  {
   "cell_type": "markdown",
   "id": "1de0b95d",
   "metadata": {},
   "source": [
    "\\begin{itemize}\n",
    "    \\item It seems like the paper runs the benchmarks and aggregates over ALL Mazurkas and not just different files\n",
    "    \\item testErrRates produces length of error rate arrays over 1 \n",
    "    \\item FastDTW function takes in a path A and path B, how can I make sure that I'm having an equivalent input for matrices of NxN for comparing runtime performance. To get over this, if the system we're computing is FastDTW, I am randomlay initializing two 12xN chroma feature vectors to be passed in as the paths so the resulting cost matrix is NxN\n",
    "    \\item refactor the way the dictionary values are set up from lists to just the np arrays themselves since we're only computing them once\n",
    "\\end{itemize}\n"
   ]
  },
  {
   "cell_type": "markdown",
   "id": "5c15509c",
   "metadata": {},
   "source": [
    "## Error Benchmarking Functions"
   ]
  },
  {
   "cell_type": "code",
   "execution_count": 5,
   "id": "3cd78b95",
   "metadata": {},
   "outputs": [],
   "source": [
    "# Make a function that plots the error rate of FastDTW, DTW, and FlexDTW over different error tolerances\n",
    "\n",
    "\n",
    "# Run DTW 10 times and store 10 errors in a dictionary, \n",
    "# Obtain error rates\n",
    "# plot it against different tolerances"
   ]
  },
  {
   "cell_type": "code",
   "execution_count": 9,
   "id": "92458f96",
   "metadata": {},
   "outputs": [],
   "source": [
    "with open(\"data/pickle/errors_test.pickle\", \"rb\") as f:\n",
    "    test_errors = pickle.load(f)\n",
    "# First plot the error rates at different values of L"
   ]
  },
  {
   "cell_type": "code",
   "execution_count": 7,
   "id": "246b2b31",
   "metadata": {},
   "outputs": [],
   "source": [
    "def calcErrorRate(error, maxTol):\n",
    "    \"\"\"\n",
    "    Calculate the error rates for each value\n",
    "    within a NumPy array of errors\n",
    "    \n",
    "    Parameters:\n",
    "        error (np.array): Array of error values between estimated and ground truth paths.\n",
    "        maxTol (int): Maximum tolerance level (expressed in thousandths).\n",
    "    \n",
    "    Returns:\n",
    "        np.array: Array of error rates for each tolerance level.\n",
    "    \"\"\"\n",
    "    errRates = np.zeros(maxTol+1)\n",
    "    for i in range(maxTol+1):\n",
    "        errRates[i] = np.mean(np.abs(error) > i/1000)\n",
    "    return errRates"
   ]
  },
  {
   "cell_type": "code",
   "execution_count": 10,
   "id": "17208e36",
   "metadata": {},
   "outputs": [],
   "source": [
    "SYSTEMS = ['DTW', 'FlexDTW']"
   ]
  },
  {
   "cell_type": "code",
   "execution_count": 119,
   "id": "b75c8941",
   "metadata": {},
   "outputs": [],
   "source": [
    "#TODO: Add Functionality to have runTests compute cost matrix given a path of annotations\n",
    "def runPathTests(systems, C, steps, weights):\n",
    "    \"\"\"\n",
    "    Runs different alignment algorithms and\n",
    "    stores their returned paths in a dict\n",
    "    \n",
    "    Parameters:\n",
    "        error (np.array): Array of error values between estimated and ground truth paths.\n",
    "        maxTol (int): Maximum tolerance level (expressed in thousandths).\n",
    "    \n",
    "    Returns:\n",
    "        np.array: Array of error rates for each tolerance level.\n",
    "    \"\"\"\n",
    "    resultsDict = {system:[] for system in systems}\n",
    "    for system in systems:\n",
    "        if system == 'DTW':\n",
    "            _, _, path = dtw_numba(C, steps, weights)\n",
    "        elif system == 'OffFlex':\n",
    "            _, path, _, _, _, _ = flexdtw_alt(C, steps, weights, buffer=5)\n",
    "        elif system == \"OnFlex\":\n",
    "            path = online_flex_dtw(C, steps, weights)\n",
    "\n",
    "        resultsDict[system].append(path)\n",
    "            \n",
    "    return resultsDict"
   ]
  },
  {
   "cell_type": "code",
   "execution_count": 77,
   "id": "bcd6cb58",
   "metadata": {},
   "outputs": [],
   "source": [
    "def runErrors(systems, pathDict, gt_path):\n",
    "    # Iterate over the pathDict array\n",
    "    numIterations = len(pathDict[systems[0]])\n",
    "    errorsDict = {system:[] for system in systems}\n",
    "    for system in systems:\n",
    "        for path in pathDict[system]:\n",
    "            currError = get_error(gt_path, path)\n",
    "            errorsDict[system].append(currError)\n",
    "    \n",
    "    return errorsDict"
   ]
  },
  {
   "cell_type": "code",
   "execution_count": 78,
   "id": "5e2dce6e",
   "metadata": {},
   "outputs": [],
   "source": [
    "def getErrorRates(errDict, maxTol=500):\n",
    "    errRateDict = {system:[] for system in errDict.keys()}\n",
    "\n",
    "    for system in errDict.keys():\n",
    "        errors = errDict[system]\n",
    "        for error in errors:\n",
    "            errRate = calcErrorRate(error, maxTol)\n",
    "            errRateDict[system].append(errRate)\n",
    "\n",
    "    return errRateDict"
   ]
  },
  {
   "cell_type": "code",
   "execution_count": 112,
   "id": "dd5b23d8",
   "metadata": {},
   "outputs": [],
   "source": [
    "def plotErrorRates(errRateDict, tolLevel):\n",
    "    # Tol Level: in milliseconds\n",
    "    # Go through key/value pair in errorRateDict\n",
    "        # For each system, plot the error rate in a bar graph\n",
    "    errRatePlot = {system:0 for system in errRateDict.keys()}\n",
    "    for system, errRate in errRateDict.items():\n",
    "        errRatePlot[system] = errRate[0][tolLevel]\n",
    "        \n",
    "    systems = errRatePlot.keys()\n",
    "    errRates = errRatePlot.values()\n",
    "    \n",
    "    print(errRates)\n",
    "    fig = plt.figure(figsize= (10, 5))\n",
    "    \n",
    "    plt.bar(systems, errRates, color='maroon', width=0.4)\n",
    "    \n",
    "    plt.xlabel(\"Systems\")\n",
    "    plt.ylabel(\"Error Rate (%)\")\n",
    "    plt.title(\"System Error Rates, Tol Lvl = 500ms\")\n",
    "    plt.show()"
   ]
  },
  {
   "cell_type": "code",
   "execution_count": 120,
   "id": "05a6f205",
   "metadata": {},
   "outputs": [],
   "source": [
    "pathDict = runPathTests(systems, C, steps, weights)"
   ]
  },
  {
   "cell_type": "code",
   "execution_count": 121,
   "id": "ad21f5e7",
   "metadata": {},
   "outputs": [
    {
     "name": "stdout",
     "output_type": "stream",
     "text": [
      "dict_values([0.98989898989899, 0.9949494949494949, 0.9949494949494949])\n"
     ]
    },
    {
     "data": {
      "image/png": "[encoded data removed]",
      "text/plain": [
       "<Figure size 1000x500 with 1 Axes>"
      ]
     },
     "metadata": {},
     "output_type": "display_data"
    }
   ],
   "source": [
    "pathErrs_dict = runErrors(systems, pathDict, gt_path)\n",
    "pathErrRates_dict = getErrorRates(pathErrs_dict)\n",
    "plotErrorRates(pathErrRates_dict, 500)"
   ]
  },
  {
   "cell_type": "code",
   "execution_count": 122,
   "id": "88f94814",
   "metadata": {},
   "outputs": [
    {
     "data": {
      "text/plain": [
       "['DTW', 'OffFlex', 'OnFlex']"
      ]
     },
     "execution_count": 122,
     "metadata": {},
     "output_type": "execute_result"
    }
   ],
   "source": [
    "systems"
   ]
  },
  {
   "cell_type": "markdown",
   "id": "d7e2a3f3",
   "metadata": {},
   "source": [
    "## Runtime Benchmark Functions"
   ]
  },
  {
   "cell_type": "markdown",
   "id": "625b91ba",
   "metadata": {},
   "source": [
    "### Directions To Run Runtime Benchmark\n",
    "\n"
   ]
  },
  {
   "cell_type": "code",
   "execution_count": 14,
   "id": "aaa24e5a",
   "metadata": {},
   "outputs": [],
   "source": [
    "def runRuntimeBenchmark(systems, steps, weights, N_list, numIterations=10):\n",
    "    runtimesTestDict = runRuntimeTest(systems, steps, weights, N_list)\n",
    "    dataTable = getRuntStats(runtimesTestDict, N_list)\n",
    "    \n",
    "    return dataTable"
   ]
  },
  {
   "cell_type": "code",
   "execution_count": 22,
   "id": "d400a877",
   "metadata": {},
   "outputs": [
    {
     "name": "stdout",
     "output_type": "stream",
     "text": [
      "+-----------+------+-----------------------+------------------------+\n",
      "| Algorithm |  N   |     Mean - Runtime    |    StDev - Runtime     |\n",
      "+-----------+------+-----------------------+------------------------+\n",
      "|    DTW    | 100  | 0.0007027318701148033 | 0.0001653641086218518  |\n",
      "|           | 200  | 0.0011114301159977913 | 0.00013578597626370646 |\n",
      "|           | 500  |  0.005926109012216329 | 0.0008613195904018748  |\n",
      "|           | 1000 |  0.02615156089887023  | 0.0004467771560366253  |\n",
      "|  FastDTW  | 100  | 0.0014439895749092102 | 0.00011138657658495847 |\n",
      "|           | 200  | 0.0013743401505053043 | 6.181667373866862e-05  |\n",
      "|           | 500  | 0.0014655595645308495 | 4.314743148834422e-05  |\n",
      "|           | 1000 | 0.0016234703361988068 | 7.981818134378468e-05  |\n",
      "|  OffFlex  | 100  | 0.0004254004918038845 | 3.805910162026659e-05  |\n",
      "|           | 200  | 0.0016090044751763343 | 2.6279039227041432e-05 |\n",
      "|           | 500  |  0.007465322129428386 | 9.114929590880612e-05  |\n",
      "|           | 1000 |  0.030838758777827026 | 0.0009524729002460296  |\n",
      "|   OnFlex  | 100  | 0.0004297402687370777 | 2.2933298526727043e-05 |\n",
      "|           | 200  | 0.0015984728932380676 | 1.2614518096320857e-05 |\n",
      "|           | 500  |  0.007375736255198717 | 1.893899064614064e-05  |\n",
      "|           | 1000 |  0.016635543573647736 | 0.00020718371082817052 |\n",
      "+-----------+------+-----------------------+------------------------+\n"
     ]
    }
   ],
   "source": [
    "runRuntimeBenchmark(systems, steps, weights, N_list, 50)"
   ]
  },
  {
   "cell_type": "code",
   "execution_count": 16,
   "id": "6cabf3a0",
   "metadata": {},
   "outputs": [],
   "source": [
    "def runRuntimeTest(systems, steps, weights, N_list, numIterations=10):\n",
    "    runtimesDict = {system:[] for system in systems}\n",
    "    \n",
    "    # For each setting of N\n",
    "    for N in N_list:\n",
    "        # Initializing random matrices\n",
    "        randMat = np.random.random((N, N))\n",
    "        for system in systems:\n",
    "            times = []\n",
    "\n",
    "            if system == \"FastDTW\":\n",
    "                randChroma_a = np.random.random((12, N))\n",
    "                randChroma_b = np.random.random((12, N))\n",
    "            for i in range(numIterations):\n",
    "                #TODO: Incorporate Match algorithm\n",
    "                if system == \"DTW\":\n",
    "                    start_time = perf_counter()\n",
    "                    _, _, path = dtw_numba(randMat, steps, weights)\n",
    "                    end_time = perf_counter()\n",
    "                    times.append(end_time - start_time)\n",
    "                elif system == \"FastDTW\":\n",
    "                    start_time = perf_counter()\n",
    "                    distance, path = fastdtw(randChroma_a, randChroma_b, dist=euclidean)\n",
    "                    end_time = perf_counter()\n",
    "                    times.append(end_time - start_time)\n",
    "                elif system == \"OffFlex\":\n",
    "                    start_time = perf_counter()\n",
    "                    _, path, _, _, _, _ = flexdtw_alt(randMat, steps, weights, buffer=5)\n",
    "                    end_time = perf_counter()\n",
    "                    times.append(end_time - start_time)\n",
    "                    \n",
    "                elif system == \"OnFlex\":\n",
    "                    start_time = perf_counter()\n",
    "                    path = online_flex_dtw(randMat, steps, weights)\n",
    "                    end_time = perf_counter()\n",
    "                    times.append(end_time - start_time)\n",
    "            if len(times) == 10:\n",
    "                runtimesDict[system].append(times)       \n",
    "    return runtimesDict"
   ]
  },
  {
   "cell_type": "code",
   "execution_count": 17,
   "id": "d65c4d42",
   "metadata": {},
   "outputs": [],
   "source": [
    "def getRuntStats(runtimesDict, N_list):\n",
    "    # Get mean and StDev of each entry in \n",
    "    runtimeStats = {system:[] for system in systems}\n",
    "    \n",
    "    # Building Stats Dictionary\n",
    "    for system, runtimes in runtimesDict.items():\n",
    "        for i in range(len(runtimes)):\n",
    "            currRuntime = np.array(runtimes[i])\n",
    "            stats = (np.mean(currRuntime), np.std(currRuntime))\n",
    "            runtimeStats[system].append(stats)\n",
    "        \n",
    "    # Visualizing Runtime\n",
    "    statsTable = PrettyTable()\n",
    "    statsTable.field_names = [\"Algorithm\", \"N\", \"Mean - Runtime\", \"StDev - Runtime\"]\n",
    "    \n",
    "    for system, stats in runtimeStats.items():\n",
    "        for i in range(len(N_list)):\n",
    "            if i == 0:\n",
    "                statsTable.add_row([system, N_list[i] , stats[i][0], stats[i][1]])\n",
    "            else:\n",
    "                 statsTable.add_row([\"\", N_list[i] ,stats[i][0], stats[i][1]])\n",
    "                \n",
    "\n",
    "    print(statsTable)"
   ]
  },
  {
   "cell_type": "code",
   "execution_count": 117,
   "id": "bee31acc",
   "metadata": {},
   "outputs": [],
   "source": [
    "N_list = [100, 200, 500, 1000]\n",
    "steps = np.array([1,1,1,2,2,1]).reshape((-1,2))\n",
    "weights = np.array([2,3,3])\n",
    "systems = [\"DTW\", \"OffFlex\", \"OnFlex\"]"
   ]
  },
  {
   "cell_type": "code",
   "execution_count": 19,
   "id": "39c72df8",
   "metadata": {
    "scrolled": true
   },
   "outputs": [],
   "source": [
    "runtimesTestDict = runRuntimeTest(systems, steps, weights, N_list)"
   ]
  },
  {
   "cell_type": "code",
   "execution_count": 20,
   "id": "9499ab6c",
   "metadata": {
    "scrolled": true
   },
   "outputs": [
    {
     "name": "stdout",
     "output_type": "stream",
     "text": [
      "+-----------+------+-----------------------+------------------------+\n",
      "| Algorithm |  N   |     Mean - Runtime    |    StDev - Runtime     |\n",
      "+-----------+------+-----------------------+------------------------+\n",
      "|    DTW    | 100  |  0.13386318180710077  |   0.4009505833398605   |\n",
      "|           | 200  | 0.0008819248527288437 | 8.441812697008968e-05  |\n",
      "|           | 500  |  0.00526898168027401  | 0.0004929952393231354  |\n",
      "|           | 1000 |  0.024710047617554666 | 0.0022919322567629867  |\n",
      "|  FastDTW  | 100  | 0.0011874736286699773 | 7.679783819217614e-05  |\n",
      "|           | 200  |  0.001295368280261755 | 6.308186084602021e-05  |\n",
      "|           | 500  | 0.0013967374339699744 | 3.7040839278947316e-05 |\n",
      "|           | 1000 | 0.0017216984182596208 | 0.00010115133222550861 |\n",
      "|  OffFlex  | 100  |   0.1283138138242066  |   0.3840350563222992   |\n",
      "|           | 200  |  0.001206604577600956 | 3.285927124287784e-05  |\n",
      "|           | 500  |  0.007427886221557855 | 8.518800066568514e-05  |\n",
      "|           | 1000 |  0.030559871904551984 | 0.0002241990360023697  |\n",
      "|   OnFlex  | 100  |  0.10726196514442563  |  0.32084972667047873   |\n",
      "|           | 200  | 0.0011989529244601726 | 1.278061201210966e-05  |\n",
      "|           | 500  |  0.00741910906508565  | 3.457378817070674e-05  |\n",
      "|           | 1000 |   0.1319735792465508  |   0.3474396193604056   |\n",
      "+-----------+------+-----------------------+------------------------+\n"
     ]
    }
   ],
   "source": [
    "getRuntStats(runtimesTestDict, N_list)"
   ]
  },
  {
   "cell_type": "markdown",
   "id": "78d35cc1",
   "metadata": {},
   "source": [
    "## Helper Functions"
   ]
  },
  {
   "cell_type": "code",
   "execution_count": 27,
   "id": "df594b33",
   "metadata": {},
   "outputs": [],
   "source": [
    "steps = np.array([1,1,1,2,2,1]).reshape((-1,2))\n",
    "weights = np.array([2,3,3])\n",
    "C = np.load(\"data/NPYs/costMat.npy\")\n",
    "gt1, gt2 = np.load(\"data/NPYs/gt1.npy\"), np.load(\"data/NPYs/gt2.npy\")\n",
    "gt_path = np.array([gt1, gt2])"
   ]
  },
  {
   "cell_type": "code",
   "execution_count": 66,
   "id": "97202462",
   "metadata": {},
   "outputs": [],
   "source": [
    "path = online_flex_dtw(C, steps, weights, 0.7)"
   ]
  },
  {
   "cell_type": "code",
   "execution_count": 59,
   "id": "0aca9491",
   "metadata": {},
   "outputs": [],
   "source": [
    "errTest = get_error(gt_path, path)"
   ]
  },
  {
   "cell_type": "code",
   "execution_count": 69,
   "id": "75fb1a0f",
   "metadata": {},
   "outputs": [
    {
     "data": {
      "text/plain": [
       "array([ 11.709138 ,  11.0591275,  10.6873925,  10.4200455,  10.2408165,\n",
       "        10.0275055,   9.778345 ,   9.3827435,   8.8810655,   9.432109 ,\n",
       "        10.538504 ,  11.32449  ,  11.767347 ,  12.374489 ,  12.652018 ,\n",
       "        13.028934 ,  13.665487 ,  14.414876 ,  14.960023 ,  15.344989 ,\n",
       "        15.882153 ,  16.261044 ,  16.592789 ,  17.072199 ,  17.554989 ,\n",
       "        17.867801 ,  18.384989 ,  18.866303 ,  19.076871 ,  19.386395 ,\n",
       "        19.34     ,  19.141745 ,  19.737573 ,  19.855964 ,  19.742495 ,\n",
       "        20.355284 ,  19.689796 ,  19.4012245,  18.843855 ,  19.147301 ,\n",
       "        19.25     ,  19.213016 ,  18.923719 ,  18.103991 ,  17.405419 ,\n",
       "        17.636826 ,  17.439319 ,  17.2775055,  16.5456695,  15.8024945,\n",
       "        15.2107025,  14.441678 ,  14.12     ,  14.58662  ,  14.95365  ,\n",
       "        15.21     ,  15.196372 ,  15.492245 ,  15.464989 ,  15.474989 ,\n",
       "        15.208662 ,  14.82     ,  14.845963 ,  14.399774 ,  14.606779 ,\n",
       "        14.653264 ,  14.756599 ,  15.09     ,  14.511927 ,  14.1654425,\n",
       "        13.6414055,  13.1725055,  12.6375055,  12.1825055,  11.8702945,\n",
       "        11.53297  ,  11.462949 ,  11.737189 ,  11.629569 ,  11.48     ,\n",
       "        11.398821 ,  11.366804 ,  11.667529 ,  12.203764 ,  12.028434 ,\n",
       "        12.739728 ,  13.151179 ,  13.303856 ,  13.732019 ,  14.765488 ,\n",
       "        15.380204 ,  14.788163 ,  13.7518135,  13.239456 ,  12.7101475,\n",
       "        12.912427 ,  13.2481065,  12.6275055,  12.2425055,  11.393968 ,\n",
       "        10.5925055,   9.925351 ,   9.4058955,   8.615555 ,   8.13263  ,\n",
       "         7.7925055,   6.6825055,   6.385238 ,   6.14     ,   6.1010655,\n",
       "         5.8936505,   5.635102 ,   4.6109295,   4.188663 ,   4.359093 ,\n",
       "         4.588616 ,   4.971701 ,   4.965011 ,   4.5125055,   4.328594 ,\n",
       "         4.095873 ,   3.839773 ,   3.532018 ,   3.396167 ,   2.907188 ,\n",
       "         3.041315 ,   3.039455 ,   3.03     ,   2.81     ,   2.794989 ,\n",
       "         3.330827 ,   3.190839 ,   2.702585 ,   2.0520185,   1.2714745,\n",
       "         0.748481 ,   0.284535 ,  -0.3516105,  -0.970522 ,  -1.5774945,\n",
       "        -2.1621995,  -2.5472565,  -2.8612815,  -3.1614515,  -3.5136965,\n",
       "        -3.8874945,  -4.3124945,  -4.8224945,  -5.2429705,  -5.886395 ,\n",
       "        -6.1224945,  -6.4967915,  -6.720113 ,  -6.76     ,  -6.661134 ,\n",
       "        -5.898051 ,  -6.4026305,  -6.6474945,  -7.36322  ,  -7.8974945,\n",
       "        -8.1536275,  -8.341315 ,  -8.047166 ,  -8.631633 ,  -9.4574945,\n",
       "        -9.057869 ,  -8.448821 ,  -7.633061 ,  -7.7199205,  -8.3974945,\n",
       "        -8.7011785,  -9.258798 ,  -9.55517  , -10.0474945, -10.6097735,\n",
       "       -11.12     , -10.8766215, -11.2174945, -11.862132 , -12.0974945,\n",
       "       -12.1374945, -11.881337 , -11.171905 , -11.4709295, -12.018572 ,\n",
       "       -12.3139685, -12.049525 , -11.752471 , -11.122585 , -10.977913 ,\n",
       "       -10.677142 , -10.225011 ,  -9.635011 ,  -9.226349 ,  -8.783674 ,\n",
       "        -8.355011 ,  -7.900589 ,  -7.976372 ,  -8.1524945,  -8.3424945,\n",
       "        -8.5724945,  -8.8224945,  -9.3799545,  -9.285011 ,  -8.725011 ,\n",
       "        -8.576644 ,  -8.44644  ,  -8.602539 ,  -9.017007 ,  -9.2624945,\n",
       "        -9.437132 ,  -9.7602605, -10.0091725, -10.4751025, -10.967982 ,\n",
       "       -11.363515 , -11.5883225, -11.8374945, -12.00653  , -12.203243 ,\n",
       "       -12.6124945, -12.8324945, -12.9474945, -13.171247 , -13.3675055,\n",
       "       -13.5724945, -13.6956685, -13.8247505, -13.9463945, -14.287007 ,\n",
       "       -14.527936 , -14.840045 , -15.154377 , -15.3873465, -15.5681865,\n",
       "       -15.881225 , -15.989207 , -15.883628 , -15.699525 , -15.642517 ,\n",
       "       -15.594535 , -15.603016 , -15.192698 , -14.796917 , -14.404853 ,\n",
       "       -13.937777 , -13.355011 , -12.81492  , -12.299228 , -11.627619 ,\n",
       "       -10.950476 , -11.1453065, -11.3299095, -11.615102 , -11.899297 ,\n",
       "       -12.05     , -12.26     , -12.195011 , -11.935011 , -11.695011 ,\n",
       "       -11.479661 , -11.295736 , -11.244852 , -10.997369 , -10.635215 ,\n",
       "       -10.256553 ,  -9.773697 ,  -9.373833 ,  -8.892903 ,  -8.82932  ,\n",
       "        -8.65415  ,  -8.81161  ,  -9.239637 , -10.0137415, -11.263537 ,\n",
       "       -12.9024945, -13.2024945, -13.4141385, -13.232063 , -12.800272 ,\n",
       "       -12.8      , -12.767755 , -12.275011 , -12.5974945, -13.1574945,\n",
       "       -13.083992 , -12.668254 , -12.866712 , -12.97195  , -13.122449 ,\n",
       "       -12.615011 , -12.145011 , -11.694784 , -10.821859 , -10.354241 ,\n",
       "       -10.095011 ,  -9.678299 ,  -9.817755 , -10.173843 , -10.9290365,\n",
       "       -11.6538775, -11.94898  , -11.459365 , -11.793514 , -11.735328 ,\n",
       "       -11.085011 , -10.2225855, -10.937846 , -12.4274945, -13.051088 ,\n",
       "       -13.313991 , -13.512223 , -14.3808615, -14.950386 , -15.3524945,\n",
       "       -15.718118 , -16.340431 , -17.1372795, -17.507211 , -18.321497 ,\n",
       "       -18.608457 , -17.925011 , -17.762812 , -18.36     , -18.818481 ,\n",
       "       -18.958096 , -19.210091 , -19.9203175, -20.3125055, -20.705623 ,\n",
       "       -21.019773 , -21.4824945, -21.797959 , -22.1576875, -22.5709415,\n",
       "       -23.0333215, -23.388798 , -23.9792405, -24.362109 , -24.487597 ,\n",
       "       -25.152562 , -25.4109745, -25.6224945, -26.1380155, -26.426758 ,\n",
       "       -26.557324 , -26.9074945, -27.6326195, -28.4057595, -28.796667 ,\n",
       "       -29.02     , -29.5214855, -30.1986855, -30.6274945, -30.9151925,\n",
       "       -30.87492  , -29.957505 , -29.592335 , -29.54635  , -29.295011 ,\n",
       "       -28.863855 , -28.430522 , -28.607664 , -28.580634 , -28.693333 ,\n",
       "       -28.0439   , -27.4974945, -28.0775055, -29.5224945, -30.393424 ,\n",
       "       -30.8998635, -31.3524945, -31.9233565, -32.2085255, -32.4781175,\n",
       "       -32.940862 , -33.38127  , -33.951157 , -34.688118 , -35.9674945,\n",
       "       -36.99     , -37.6922255, -38.476956 , -39.261687 , -40.0464175,\n",
       "       -40.7774945, -41.1124945, -41.4174945, -41.6874945, -42.0174945,\n",
       "       -42.4774945, -42.9874945, -43.8832195, -44.32398  , -44.060499 ,\n",
       "       -44.159807 ])"
      ]
     },
     "execution_count": 69,
     "metadata": {},
     "output_type": "execute_result"
    }
   ],
   "source": [
    "errTest"
   ]
  },
  {
   "cell_type": "code",
   "execution_count": 86,
   "id": "5df37045",
   "metadata": {},
   "outputs": [],
   "source": [
    "errRates = calcErrorRate(errTest, 500)"
   ]
  },
  {
   "cell_type": "code",
   "execution_count": 87,
   "id": "d7a1166f",
   "metadata": {},
   "outputs": [
    {
     "data": {
      "text/plain": [
       "array([1.        , 1.        , 1.        , 1.        , 1.        ,\n",
       "       1.        , 1.        , 1.        , 1.        , 1.        ,\n",
       "       1.        , 1.        , 1.        , 1.        , 1.        ,\n",
       "       1.        , 1.        , 1.        , 1.        , 1.        ,\n",
       "       1.        , 1.        , 1.        , 1.        , 1.        ,\n",
       "       1.        , 1.        , 1.        , 1.        , 1.        ,\n",
       "       1.        , 1.        , 1.        , 1.        , 1.        ,\n",
       "       1.        , 1.        , 1.        , 1.        , 1.        ,\n",
       "       1.        , 1.        , 1.        , 1.        , 1.        ,\n",
       "       1.        , 1.        , 1.        , 1.        , 1.        ,\n",
       "       1.        , 1.        , 1.        , 1.        , 1.        ,\n",
       "       1.        , 1.        , 1.        , 1.        , 1.        ,\n",
       "       1.        , 1.        , 1.        , 1.        , 1.        ,\n",
       "       1.        , 1.        , 1.        , 1.        , 1.        ,\n",
       "       1.        , 1.        , 1.        , 1.        , 1.        ,\n",
       "       1.        , 1.        , 1.        , 1.        , 1.        ,\n",
       "       1.        , 1.        , 1.        , 1.        , 1.        ,\n",
       "       1.        , 1.        , 1.        , 1.        , 1.        ,\n",
       "       1.        , 1.        , 1.        , 1.        , 1.        ,\n",
       "       1.        , 1.        , 1.        , 1.        , 1.        ,\n",
       "       1.        , 1.        , 1.        , 1.        , 1.        ,\n",
       "       1.        , 1.        , 1.        , 1.        , 1.        ,\n",
       "       1.        , 1.        , 1.        , 1.        , 1.        ,\n",
       "       1.        , 1.        , 1.        , 1.        , 1.        ,\n",
       "       1.        , 1.        , 1.        , 1.        , 1.        ,\n",
       "       1.        , 1.        , 1.        , 1.        , 1.        ,\n",
       "       1.        , 1.        , 1.        , 1.        , 1.        ,\n",
       "       1.        , 1.        , 1.        , 1.        , 1.        ,\n",
       "       1.        , 1.        , 1.        , 1.        , 1.        ,\n",
       "       1.        , 1.        , 1.        , 1.        , 1.        ,\n",
       "       1.        , 1.        , 1.        , 1.        , 1.        ,\n",
       "       1.        , 1.        , 1.        , 1.        , 1.        ,\n",
       "       1.        , 1.        , 1.        , 1.        , 1.        ,\n",
       "       1.        , 1.        , 1.        , 1.        , 1.        ,\n",
       "       1.        , 1.        , 1.        , 1.        , 1.        ,\n",
       "       1.        , 1.        , 1.        , 1.        , 1.        ,\n",
       "       1.        , 1.        , 1.        , 1.        , 1.        ,\n",
       "       1.        , 1.        , 1.        , 1.        , 1.        ,\n",
       "       1.        , 1.        , 1.        , 1.        , 1.        ,\n",
       "       1.        , 1.        , 1.        , 1.        , 1.        ,\n",
       "       1.        , 1.        , 1.        , 1.        , 1.        ,\n",
       "       1.        , 1.        , 1.        , 1.        , 1.        ,\n",
       "       1.        , 1.        , 1.        , 1.        , 1.        ,\n",
       "       1.        , 1.        , 1.        , 1.        , 1.        ,\n",
       "       1.        , 1.        , 1.        , 1.        , 1.        ,\n",
       "       1.        , 1.        , 1.        , 1.        , 1.        ,\n",
       "       1.        , 1.        , 1.        , 1.        , 1.        ,\n",
       "       1.        , 1.        , 1.        , 1.        , 1.        ,\n",
       "       1.        , 1.        , 1.        , 1.        , 1.        ,\n",
       "       1.        , 1.        , 1.        , 1.        , 1.        ,\n",
       "       1.        , 1.        , 1.        , 1.        , 1.        ,\n",
       "       1.        , 1.        , 1.        , 1.        , 1.        ,\n",
       "       1.        , 1.        , 1.        , 1.        , 1.        ,\n",
       "       1.        , 1.        , 1.        , 1.        , 1.        ,\n",
       "       1.        , 1.        , 1.        , 1.        , 1.        ,\n",
       "       1.        , 1.        , 1.        , 1.        , 1.        ,\n",
       "       1.        , 1.        , 1.        , 1.        , 1.        ,\n",
       "       0.99747475, 0.99747475, 0.99747475, 0.99747475, 0.99747475,\n",
       "       0.99747475, 0.99747475, 0.99747475, 0.99747475, 0.99747475,\n",
       "       0.99747475, 0.99747475, 0.99747475, 0.99747475, 0.99747475,\n",
       "       0.99747475, 0.99747475, 0.99747475, 0.99747475, 0.99747475,\n",
       "       0.99747475, 0.99747475, 0.99747475, 0.99747475, 0.99747475,\n",
       "       0.99747475, 0.99747475, 0.99747475, 0.99747475, 0.99747475,\n",
       "       0.99747475, 0.99747475, 0.99747475, 0.99747475, 0.99747475,\n",
       "       0.99747475, 0.99747475, 0.99747475, 0.99747475, 0.99747475,\n",
       "       0.99747475, 0.99747475, 0.99747475, 0.99747475, 0.99747475,\n",
       "       0.99747475, 0.99747475, 0.99747475, 0.99747475, 0.99747475,\n",
       "       0.99747475, 0.99747475, 0.99747475, 0.99747475, 0.99747475,\n",
       "       0.99747475, 0.99747475, 0.99747475, 0.99747475, 0.99747475,\n",
       "       0.99747475, 0.99747475, 0.99747475, 0.99747475, 0.99747475,\n",
       "       0.99747475, 0.99747475, 0.99494949, 0.99494949, 0.99494949,\n",
       "       0.99494949, 0.99494949, 0.99494949, 0.99494949, 0.99494949,\n",
       "       0.99494949, 0.99494949, 0.99494949, 0.99494949, 0.99494949,\n",
       "       0.99494949, 0.99494949, 0.99494949, 0.99494949, 0.99494949,\n",
       "       0.99494949, 0.99494949, 0.99494949, 0.99494949, 0.99494949,\n",
       "       0.99494949, 0.99494949, 0.99494949, 0.99494949, 0.99494949,\n",
       "       0.99494949, 0.99494949, 0.99494949, 0.99494949, 0.99494949,\n",
       "       0.99494949, 0.99494949, 0.99494949, 0.99494949, 0.99494949,\n",
       "       0.99494949, 0.99494949, 0.99494949, 0.99494949, 0.99494949,\n",
       "       0.99494949, 0.99494949, 0.99494949, 0.99494949, 0.99494949,\n",
       "       0.99494949, 0.99494949, 0.99494949, 0.99494949, 0.99494949,\n",
       "       0.99494949, 0.99494949, 0.99494949, 0.99494949, 0.99494949,\n",
       "       0.99494949, 0.99494949, 0.99494949, 0.99494949, 0.99494949,\n",
       "       0.99494949, 0.99494949, 0.99494949, 0.99494949, 0.99494949,\n",
       "       0.99494949, 0.99494949, 0.99494949, 0.99494949, 0.99494949,\n",
       "       0.99494949, 0.99494949, 0.99494949, 0.99494949, 0.99494949,\n",
       "       0.99494949, 0.99494949, 0.99494949, 0.99494949, 0.99494949,\n",
       "       0.99494949, 0.99494949, 0.99494949, 0.99494949, 0.99494949,\n",
       "       0.99494949, 0.99494949, 0.99494949, 0.99494949, 0.99494949,\n",
       "       0.99494949, 0.99494949, 0.99494949, 0.99494949, 0.99494949,\n",
       "       0.99494949, 0.99494949, 0.99494949, 0.99494949, 0.99494949,\n",
       "       0.99494949, 0.99494949, 0.99494949, 0.99494949, 0.99494949,\n",
       "       0.99494949, 0.99494949, 0.99494949, 0.99494949, 0.99494949,\n",
       "       0.99494949, 0.99494949, 0.99494949, 0.99494949, 0.99494949,\n",
       "       0.99494949, 0.99494949, 0.99494949, 0.99494949, 0.99494949,\n",
       "       0.99494949, 0.99494949, 0.99494949, 0.99494949, 0.99494949,\n",
       "       0.99494949, 0.99494949, 0.99494949, 0.99494949, 0.99494949,\n",
       "       0.99494949, 0.99494949, 0.99494949, 0.99494949, 0.99494949,\n",
       "       0.99494949, 0.99494949, 0.99494949, 0.99494949, 0.99494949,\n",
       "       0.99494949, 0.99494949, 0.99494949, 0.99494949, 0.99494949,\n",
       "       0.99494949])"
      ]
     },
     "execution_count": 87,
     "metadata": {},
     "output_type": "execute_result"
    }
   ],
   "source": [
    "errRates"
   ]
  },
  {
   "cell_type": "code",
   "execution_count": 90,
   "id": "aa76a588",
   "metadata": {},
   "outputs": [],
   "source": [
    "errRates[480] = 1000000"
   ]
  },
  {
   "cell_type": "code",
   "execution_count": 92,
   "id": "0f3dac26",
   "metadata": {},
   "outputs": [
    {
     "data": {
      "text/plain": [
       "(501,)"
      ]
     },
     "execution_count": 92,
     "metadata": {},
     "output_type": "execute_result"
    }
   ],
   "source": [
    "errRates.shape"
   ]
  },
  {
   "cell_type": "code",
   "execution_count": 94,
   "id": "92219470",
   "metadata": {},
   "outputs": [
    {
     "data": {
      "text/plain": [
       "0.9949494949494949"
      ]
     },
     "execution_count": 94,
     "metadata": {},
     "output_type": "execute_result"
    }
   ],
   "source": [
    "errRates[500]"
   ]
  },
  {
   "cell_type": "code",
   "execution_count": null,
   "id": "fca91d47",
   "metadata": {},
   "outputs": [],
   "source": []
  }
 ],
 "metadata": {
  "kernelspec": {
   "display_name": "FlexWin",
   "language": "python",
   "name": "flexwin"
  },
  "language_info": {
   "codemirror_mode": {
    "name": "ipython",
    "version": 3
   },
   "file_extension": ".py",
   "mimetype": "text/x-python",
   "name": "python",
   "nbconvert_exporter": "python",
   "pygments_lexer": "ipython3",
   "version": "3.7.13"
  }
 },
 "nbformat": 4,
 "nbformat_minor": 5
}
